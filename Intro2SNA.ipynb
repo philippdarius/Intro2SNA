{
  "metadata": {
    "language_info": {
      "codemirror_mode": {
        "name": "python",
        "version": 3
      },
      "file_extension": ".py",
      "mimetype": "text/x-python",
      "name": "python",
      "nbconvert_exporter": "python",
      "pygments_lexer": "ipython3",
      "version": "3.8"
    },
    "kernelspec": {
      "name": "python",
      "display_name": "Python (Pyodide)",
      "language": "python"
    }
  },
  "nbformat_minor": 4,
  "nbformat": 4,
  "cells": [
    {
      "cell_type": "code",
      "source": "# This is a short tutorial on using igraph in Python with an example edgelist of a retweet network:\n\n# Step 1: Install and load the igraph package First, make sure you have the igraph package installed. Run the following code to install it:\n\n!pip install python-igraph\n\n# Then, load the package using the import statement:\nimport igraph as ig\n\n#Step 2: Import the edgelist data Assuming you have an edgelist CSV file with columns 'source' and 'target' representing retweet connections, you can import it using the read() function from the pandas library:\n\nimport pandas as pd\n\n# Import the edgelist data\nedgelist = pd.read_csv('Vaccine_edgelist_rtnet.csv')\n\n# Step 3: Create a network object Next, create a network object using igraph's Graph() function. You can pass the source and target columns from the edgelist DataFrame as arguments:\n# Create a graph from the edgelist data\nnetwork = ig.Graph.TupleList(edgelist.itertuples(index=False), directed=True)\n\n# Step 4: Basic network visualization To visualize the network, use the plot() function:\n# Visualize the network\nig.plot(network, bbox=(800, 800))\n# This will generate a basic plot of the retweet network.\n\n#Step 5: Analyzing network properties Now, you can analyze various network properties using igraph. Here are a few examples:\n# -- Degree centrality: Calculate the in-degree centrality (number of retweets received) using the indegree() function:\n\n# Calculate in-degree centrality\nindegree_centrality = network.indegree()\nprint(indegree_centrality)\n\n# -- Betweenness centrality: Calculate the betweenness centrality using the betweenness() function:\n# Calculate betweenness centrality\nbetweenness_centrality = network.betweenness()\nprint(betweenness_centrality)\n\n# -- Community detection: Detect communities within the network using the Louvain method:\npython\n# Detect communities using Louvain method\ncommunities = network.community_multilevel()\nprint(communities)\n\n# Step 6: Visualizing network properties To visualize network properties, you can use different plotting functions. Here are a few examples:\n# -- Visualizing in-degree centrality:\n# Plot in-degree centrality\nig.plot(network, vertex_size=indegree_centrality, bbox=(800, 800))\n\n# -- Visualizing betweenness centrality:\n# Plot betweenness centrality\nig.plot(network, vertex_size=betweenness_centrality, bbox=(800, 800))\n\n# -- Visualizing communities:\n# Plot communities\nig.plot(network, vertex_color=communities.membership, bbox=(800, 800))\n\n# This tutorial provides a basic overview of using igraph in Python with an example retweet network. You can further explore additional functionalities\n# and advanced techniques in the igraph documentation to conduct more comprehensive analyses and visualizations based on your specific needs.\n",
      "metadata": {
        "trusted": true
      },
      "execution_count": 4,
      "outputs": [
        {
          "ename": "<class 'AttributeError'>",
          "evalue": "module 'pexpect' has no attribute 'TIMEOUT'",
          "traceback": [
            "\u001b[0;31m---------------------------------------------------------------------------\u001b[0m",
            "\u001b[0;31mAttributeError\u001b[0m                            Traceback (most recent call last)",
            "Cell \u001b[0;32mIn[4], line 5\u001b[0m\n\u001b[1;32m      1\u001b[0m \u001b[38;5;66;03m# This is a short tutorial on using igraph in Python with an example edgelist of a retweet network:\u001b[39;00m\n\u001b[1;32m      2\u001b[0m \n\u001b[1;32m      3\u001b[0m \u001b[38;5;66;03m# Step 1: Install and load the igraph package First, make sure you have the igraph package installed. Run the following code to install it:\u001b[39;00m\n\u001b[0;32m----> 5\u001b[0m \u001b[43mget_ipython\u001b[49m\u001b[43m(\u001b[49m\u001b[43m)\u001b[49m\u001b[38;5;241;43m.\u001b[39;49m\u001b[43msystem\u001b[49m\u001b[43m(\u001b[49m\u001b[38;5;124;43m'\u001b[39;49m\u001b[38;5;124;43mpip install python-igraph\u001b[39;49m\u001b[38;5;124;43m'\u001b[39;49m\u001b[43m)\u001b[49m\n\u001b[1;32m      7\u001b[0m \u001b[38;5;66;03m# Then, load the package using the import statement:\u001b[39;00m\n\u001b[1;32m      8\u001b[0m \u001b[38;5;28;01mimport\u001b[39;00m \u001b[38;5;21;01migraph\u001b[39;00m \u001b[38;5;28;01mas\u001b[39;00m \u001b[38;5;21;01mig\u001b[39;00m\n",
            "File \u001b[0;32m/lib/python3.11/site-packages/IPython/core/interactiveshell.py:2590\u001b[0m, in \u001b[0;36mInteractiveShell.system_piped\u001b[0;34m(self, cmd)\u001b[0m\n\u001b[1;32m   2585\u001b[0m     \u001b[38;5;28;01mraise\u001b[39;00m \u001b[38;5;167;01mOSError\u001b[39;00m(\u001b[38;5;124m\"\u001b[39m\u001b[38;5;124mBackground processes not supported.\u001b[39m\u001b[38;5;124m\"\u001b[39m)\n\u001b[1;32m   2587\u001b[0m \u001b[38;5;66;03m# we explicitly do NOT return the subprocess status code, because\u001b[39;00m\n\u001b[1;32m   2588\u001b[0m \u001b[38;5;66;03m# a non-None value would trigger :func:`sys.displayhook` calls.\u001b[39;00m\n\u001b[1;32m   2589\u001b[0m \u001b[38;5;66;03m# Instead, we store the exit_code in user_ns.\u001b[39;00m\n\u001b[0;32m-> 2590\u001b[0m \u001b[38;5;28mself\u001b[39m\u001b[38;5;241m.\u001b[39muser_ns[\u001b[38;5;124m'\u001b[39m\u001b[38;5;124m_exit_code\u001b[39m\u001b[38;5;124m'\u001b[39m] \u001b[38;5;241m=\u001b[39m \u001b[43msystem\u001b[49m\u001b[43m(\u001b[49m\u001b[38;5;28;43mself\u001b[39;49m\u001b[38;5;241;43m.\u001b[39;49m\u001b[43mvar_expand\u001b[49m\u001b[43m(\u001b[49m\u001b[43mcmd\u001b[49m\u001b[43m,\u001b[49m\u001b[43m \u001b[49m\u001b[43mdepth\u001b[49m\u001b[38;5;241;43m=\u001b[39;49m\u001b[38;5;241;43m1\u001b[39;49m\u001b[43m)\u001b[49m\u001b[43m)\u001b[49m\n",
            "File \u001b[0;32m/lib/python3.11/site-packages/IPython/utils/_process_posix.py:129\u001b[0m, in \u001b[0;36mProcessHandler.system\u001b[0;34m(self, cmd)\u001b[0m\n\u001b[1;32m    125\u001b[0m enc \u001b[38;5;241m=\u001b[39m DEFAULT_ENCODING\n\u001b[1;32m    127\u001b[0m \u001b[38;5;66;03m# Patterns to match on the output, for pexpect.  We read input and\u001b[39;00m\n\u001b[1;32m    128\u001b[0m \u001b[38;5;66;03m# allow either a short timeout or EOF\u001b[39;00m\n\u001b[0;32m--> 129\u001b[0m patterns \u001b[38;5;241m=\u001b[39m [\u001b[43mpexpect\u001b[49m\u001b[38;5;241;43m.\u001b[39;49m\u001b[43mTIMEOUT\u001b[49m, pexpect\u001b[38;5;241m.\u001b[39mEOF]\n\u001b[1;32m    130\u001b[0m \u001b[38;5;66;03m# the index of the EOF pattern in the list.\u001b[39;00m\n\u001b[1;32m    131\u001b[0m \u001b[38;5;66;03m# even though we know it's 1, this call means we don't have to worry if\u001b[39;00m\n\u001b[1;32m    132\u001b[0m \u001b[38;5;66;03m# we change the above list, and forget to change this value:\u001b[39;00m\n\u001b[1;32m    133\u001b[0m EOF_index \u001b[38;5;241m=\u001b[39m patterns\u001b[38;5;241m.\u001b[39mindex(pexpect\u001b[38;5;241m.\u001b[39mEOF)\n",
            "\u001b[0;31mAttributeError\u001b[0m: module 'pexpect' has no attribute 'TIMEOUT'"
          ],
          "output_type": "error"
        }
      ]
    },
    {
      "cell_type": "code",
      "source": "",
      "metadata": {},
      "execution_count": null,
      "outputs": []
    }
  ]
}